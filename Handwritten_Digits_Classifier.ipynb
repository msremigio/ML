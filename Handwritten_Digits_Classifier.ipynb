{
  "nbformat": 4,
  "nbformat_minor": 0,
  "metadata": {
    "colab": {
      "name": "Handwritten Digits Classifier",
      "provenance": [],
      "authorship_tag": "ABX9TyMOlnZUsvIyrjz4iwLK4d7Q",
      "include_colab_link": true
    },
    "kernelspec": {
      "name": "python3",
      "display_name": "Python 3"
    }
  },
  "cells": [
    {
      "cell_type": "markdown",
      "metadata": {
        "id": "view-in-github",
        "colab_type": "text"
      },
      "source": [
        "<a href=\"https://colab.research.google.com/github/msremigio/ML/blob/master/Handwritten_Digits_Classifier.ipynb\" target=\"_parent\"><img src=\"https://colab.research.google.com/assets/colab-badge.svg\" alt=\"Open In Colab\"/></a>"
      ]
    },
    {
      "cell_type": "code",
      "metadata": {
        "id": "2W9To4KJNfie",
        "colab_type": "code",
        "colab": {}
      },
      "source": [
        "import gzip\n",
        "import numpy as np\n",
        "import matplotlib.pyplot as plt\n",
        "import tensorflow as tf"
      ],
      "execution_count": 16,
      "outputs": []
    },
    {
      "cell_type": "code",
      "metadata": {
        "id": "Ft2Uu8tQigO-",
        "colab_type": "code",
        "colab": {}
      },
      "source": [
        "# Files to import\n",
        "trainImages = '/train-images-idx3-ubyte.gz'\n",
        "trainLabels = '/train-labels-idx1-ubyte.gz'\n",
        "testImages = '/t10k-images-idx3-ubyte.gz'\n",
        "testLabels = '/t10k-labels-idx1-ubyte.gz'"
      ],
      "execution_count": 24,
      "outputs": []
    },
    {
      "cell_type": "code",
      "metadata": {
        "id": "O1qHDnlGjGJO",
        "colab_type": "code",
        "colab": {}
      },
      "source": [
        "def loadData(fileName, fileSize, isLabel = False):\n",
        "    '''\n",
        "    \n",
        "    Parameters\n",
        "    ----------\n",
        "    fileName : String\n",
        "        Directory path to the images file location.\n",
        "    fileSize : Integer\n",
        "        Number of elemets in the image file.\n",
        "    isLabel : Boolean, optional\n",
        "        Set to True if loading classification labels for the images. The default is False.\n",
        "\n",
        "    Returns\n",
        "    -------\n",
        "    data : Numpy array\n",
        "        Returns the image files in a 28 x 28 pixels format for each image.\n",
        "        If the file is a classification label, returns the label for each image.\n",
        "\n",
        "    '''\n",
        "    frameSize = (1, 1)\n",
        "    dataType = np.uint8\n",
        "    file = gzip.open(fileName, 'r')\n",
        "    file.read(8)\n",
        "    if not(isLabel):\n",
        "        file.read(8)\n",
        "        frameSize = (28, 28)\n",
        "        dataType = np.float32\n",
        "    buffer = file.read(frameSize[0] * frameSize[1] * fileSize)\n",
        "    data = np.frombuffer(buffer, dtype=np.uint8).astype(dataType)\n",
        "    data = data.reshape((fileSize, frameSize[0], frameSize[1])).squeeze()\n",
        "    return data"
      ],
      "execution_count": 18,
      "outputs": []
    },
    {
      "cell_type": "code",
      "metadata": {
        "id": "X6rBdFqZjKBK",
        "colab_type": "code",
        "colab": {}
      },
      "source": [
        "def plotImage(data, label, index = 0):\n",
        "    '''\n",
        "    \n",
        "    Parameters\n",
        "    ----------\n",
        "    data : Numpy array\n",
        "        Data array of the loaded images.\n",
        "    label : Numpy array\n",
        "        Data array of the images labels.\n",
        "    index : Integer, optional\n",
        "        The data index to plot the image. The default is 0.\n",
        "\n",
        "    Returns\n",
        "    -------\n",
        "    None.\n",
        "\n",
        "    '''\n",
        "    image = np.asarray(data[index])\n",
        "    plt.imshow(image, cmap='gray')\n",
        "    plt.title(f'Label: {label[index]}')\n",
        "    plt.show()"
      ],
      "execution_count": 19,
      "outputs": []
    },
    {
      "cell_type": "code",
      "metadata": {
        "id": "Sm_E0bKdjMYg",
        "colab_type": "code",
        "colab": {}
      },
      "source": [
        "def getModelPrediction(data, model):\n",
        "    '''\n",
        "    \n",
        "    Parameters\n",
        "    ----------\n",
        "    data : Numpy array\n",
        "        Data array of the loaded images.\n",
        "    model : Tensorflow model object\n",
        "        The machine learning model created for the image classification.\n",
        "\n",
        "    Returns\n",
        "    -------\n",
        "    None.\n",
        "\n",
        "    '''\n",
        "    prediction = model(data).numpy()\n",
        "    print(f'Predicted Number:\\t {prediction.tolist()[0].index(prediction.max())}')"
      ],
      "execution_count": 20,
      "outputs": []
    },
    {
      "cell_type": "code",
      "metadata": {
        "id": "dWr9HPfcjPGS",
        "colab_type": "code",
        "colab": {}
      },
      "source": [
        "x_train = loadData(trainImages, 60000) / 255.0\n",
        "y_train = loadData(trainLabels, 60000, isLabel=True)\n",
        "x_test = loadData(testImages, 10000) / 255.0\n",
        "y_test = loadData(testLabels, 10000, isLabel=True)"
      ],
      "execution_count": 25,
      "outputs": []
    },
    {
      "cell_type": "code",
      "metadata": {
        "id": "u5tTfO51kiZB",
        "colab_type": "code",
        "colab": {}
      },
      "source": [
        "# Creating the Neural Net Model\n",
        "model = tf.keras.models.Sequential([\n",
        "  tf.keras.layers.Flatten(input_shape=(28, 28)),\n",
        "  tf.keras.layers.Dense(128, activation='relu'),\n",
        "  tf.keras.layers.Dropout(0.2),\n",
        "  tf.keras.layers.Dense(10)\n",
        "])"
      ],
      "execution_count": 26,
      "outputs": []
    },
    {
      "cell_type": "code",
      "metadata": {
        "id": "bKo0p3pBklZh",
        "colab_type": "code",
        "colab": {
          "base_uri": "https://localhost:8080/",
          "height": 314
        },
        "outputId": "258055ed-ed7a-479d-ba63-7c5c3694e68c"
      },
      "source": [
        "# Prediction of the first image before training the model\n",
        "print('Test prediction of the untrained model -- Train data')\n",
        "plotImage(x_train, y_train, index=59999)\n",
        "getModelPrediction(x_train[59999:60000], model)"
      ],
      "execution_count": 27,
      "outputs": [
        {
          "output_type": "stream",
          "text": [
            "Test prediction of the untrained model -- Train data\n"
          ],
          "name": "stdout"
        },
        {
          "output_type": "display_data",
          "data": {
            "image/png": "[encoded data removed]",
            "text/plain": [
              "<Figure size 432x288 with 1 Axes>"
            ]
          },
          "metadata": {
            "tags": [],
            "needs_background": "light"
          }
        },
        {
          "output_type": "stream",
          "text": [
            "Predicted Number:\t 9\n"
          ],
          "name": "stdout"
        }
      ]
    },
    {
      "cell_type": "code",
      "metadata": {
        "id": "lvcwpLcxkvAl",
        "colab_type": "code",
        "colab": {
          "base_uri": "https://localhost:8080/",
          "height": 202
        },
        "outputId": "e2bd5ae6-152f-4701-8a0e-e588add445e3"
      },
      "source": [
        "# Training and optimizing the model (Stochastic Gradient Descent)\n",
        "loss_fn = tf.keras.losses.SparseCategoricalCrossentropy(from_logits=True)\n",
        "model.compile(optimizer='adam',\n",
        "              loss=loss_fn,\n",
        "              metrics=['accuracy'])\n",
        "\n",
        "model.fit(x_train, y_train, epochs=5)"
      ],
      "execution_count": 28,
      "outputs": [
        {
          "output_type": "stream",
          "text": [
            "Epoch 1/5\n",
            "1875/1875 [==============================] - 3s 2ms/step - loss: 0.2999 - accuracy: 0.9132\n",
            "Epoch 2/5\n",
            "1875/1875 [==============================] - 3s 2ms/step - loss: 0.1470 - accuracy: 0.9555\n",
            "Epoch 3/5\n",
            "1875/1875 [==============================] - 3s 2ms/step - loss: 0.1081 - accuracy: 0.9675\n",
            "Epoch 4/5\n",
            "1875/1875 [==============================] - 3s 2ms/step - loss: 0.0862 - accuracy: 0.9740\n",
            "Epoch 5/5\n",
            "1875/1875 [==============================] - 3s 2ms/step - loss: 0.0753 - accuracy: 0.9758\n"
          ],
          "name": "stdout"
        },
        {
          "output_type": "execute_result",
          "data": {
            "text/plain": [
              "<tensorflow.python.keras.callbacks.History at 0x7fc7ff2770f0>"
            ]
          },
          "metadata": {
            "tags": []
          },
          "execution_count": 28
        }
      ]
    },
    {
      "cell_type": "code",
      "metadata": {
        "id": "1-rv3Ogjk0zt",
        "colab_type": "code",
        "colab": {
          "base_uri": "https://localhost:8080/",
          "height": 314
        },
        "outputId": "18b5ee63-af11-4390-8ec1-57cd8108b979"
      },
      "source": [
        "# Prediction of the first image after training the model\n",
        "print('Test prediction of the untrained model -- Train data')\n",
        "plotImage(x_train, y_train, index=59999)\n",
        "getModelPrediction(x_train[59999:60000], model)"
      ],
      "execution_count": 29,
      "outputs": [
        {
          "output_type": "stream",
          "text": [
            "Test prediction of the untrained model -- Train data\n"
          ],
          "name": "stdout"
        },
        {
          "output_type": "display_data",
          "data": {
            "image/png": "[encoded data removed]",
            "text/plain": [
              "<Figure size 432x288 with 1 Axes>"
            ]
          },
          "metadata": {
            "tags": [],
            "needs_background": "light"
          }
        },
        {
          "output_type": "stream",
          "text": [
            "Predicted Number:\t 8\n"
          ],
          "name": "stdout"
        }
      ]
    },
    {
      "cell_type": "code",
      "metadata": {
        "id": "U8dqONbTk-XR",
        "colab_type": "code",
        "colab": {
          "base_uri": "https://localhost:8080/",
          "height": 34
        },
        "outputId": "fffabf32-4f7e-4694-d999-4df43e8dda96"
      },
      "source": [
        "# Evaluating the trained model\n",
        "loss, acc = model.evaluate(x_test, y_test, verbose=1)\n",
        "# Setting the model to give a probability as output\n",
        "probability_model = tf.keras.Sequential([\n",
        "  model,\n",
        "  tf.keras.layers.Softmax()\n",
        "])"
      ],
      "execution_count": 34,
      "outputs": [
        {
          "output_type": "stream",
          "text": [
            "313/313 [==============================] - 0s 1ms/step - loss: 0.0761 - accuracy: 0.9762\n"
          ],
          "name": "stdout"
        }
      ]
    },
    {
      "cell_type": "code",
      "metadata": {
        "id": "_xM56VFClWa9",
        "colab_type": "code",
        "colab": {
          "base_uri": "https://localhost:8080/",
          "height": 67
        },
        "outputId": "6a4bf890-fcc5-442f-d17b-8c2c74bdef99"
      },
      "source": [
        "# Predictions on test data with trained model\n",
        "print('Predictions of the trained model: ', end='')\n",
        "predictions = np.array(probability_model(x_test)).tolist()\n",
        "results = np.array([result.index(max(result)) for result in predictions], dtype=np.uint8)\n",
        "print(results)\n",
        "print('\\nTest data labels: ', end='')\n",
        "print(y_test)"
      ],
      "execution_count": 38,
      "outputs": [
        {
          "output_type": "stream",
          "text": [
            "Predictions of the trained model: [7 2 1 ... 4 5 6]\n",
            "\n",
            "Test data labels: [7 2 1 ... 4 5 6]\n"
          ],
          "name": "stdout"
        }
      ]
    },
    {
      "cell_type": "code",
      "metadata": {
        "id": "WgwiRQQrlei6",
        "colab_type": "code",
        "colab": {
          "base_uri": "https://localhost:8080/",
          "height": 298
        },
        "outputId": "3f647b7e-a4bb-428f-bf8b-c37385e61826"
      },
      "source": [
        "plotImage(x_test, y_test, index=0)\n",
        "getModelPrediction(x_test[0:1], model)"
      ],
      "execution_count": 32,
      "outputs": [
        {
          "output_type": "display_data",
          "data": {
            "image/png": "[encoded data removed]",
            "text/plain": [
              "<Figure size 432x288 with 1 Axes>"
            ]
          },
          "metadata": {
            "tags": [],
            "needs_background": "light"
          }
        },
        {
          "output_type": "stream",
          "text": [
            "Predicted Number:\t 7\n"
          ],
          "name": "stdout"
        }
      ]
    }
  ]
}