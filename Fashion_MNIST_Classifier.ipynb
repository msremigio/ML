{
  "nbformat": 4,
  "nbformat_minor": 0,
  "metadata": {
    "colab": {
      "name": "Fashion MNIST Classifier.ipynb",
      "provenance": [],
      "collapsed_sections": [],
      "authorship_tag": "ABX9TyMKB8fqvJaTD7Gwlr8ApYtD",
      "include_colab_link": true
    },
    "kernelspec": {
      "name": "python3",
      "display_name": "Python 3"
    }
  },
  "cells": [
    {
      "cell_type": "markdown",
      "metadata": {
        "id": "view-in-github",
        "colab_type": "text"
      },
      "source": [
        "<a href=\"https://colab.research.google.com/github/msremigio/ML/blob/master/Fashion_MNIST_Classifier.ipynb\" target=\"_parent\"><img src=\"https://colab.research.google.com/assets/colab-badge.svg\" alt=\"Open In Colab\"/></a>"
      ]
    },
    {
      "cell_type": "code",
      "metadata": {
        "id": "vPTCw8UrxsMP",
        "colab_type": "code",
        "colab": {}
      },
      "source": [
        "import gzip\n",
        "import numpy as np\n",
        "import matplotlib.pyplot as plt\n",
        "import tensorflow as tf"
      ],
      "execution_count": 83,
      "outputs": []
    },
    {
      "cell_type": "code",
      "metadata": {
        "id": "Va0zegLHy-CD",
        "colab_type": "code",
        "colab": {}
      },
      "source": [
        "trainImages = '/content/train-images-idx3-ubyte.gz'\n",
        "trainLabels = '/content/train-labels-idx1-ubyte.gz'\n",
        "testImages = '/content/t10k-images-idx3-ubyte.gz'\n",
        "testLabels = '/content/t10k-labels-idx1-ubyte.gz'"
      ],
      "execution_count": 84,
      "outputs": []
    },
    {
      "cell_type": "code",
      "metadata": {
        "id": "5PSQgph4Mt-Q",
        "colab_type": "code",
        "colab": {}
      },
      "source": [
        "decoding = {0 : 'T-shirt/top',\n",
        "            1 :\t'Trouser',\n",
        "            2 :\t'Pullover',\n",
        "            3 :\t'Dress',\n",
        "            4 :\t'Coat',\n",
        "            5 :\t'Sandal',\n",
        "            6 :\t'Shirt',\n",
        "            7 :\t'Sneaker',\n",
        "            8 :\t'Bag',\n",
        "            9 :\t'Ankle boot'}"
      ],
      "execution_count": 85,
      "outputs": []
    },
    {
      "cell_type": "code",
      "metadata": {
        "id": "SImcta5YzM0Y",
        "colab_type": "code",
        "colab": {}
      },
      "source": [
        "def loadData(filePath, fileSize, isLabel = True):\n",
        "    '''\n",
        "    \n",
        "    Parameters\n",
        "    ----------\n",
        "    filePath : String\n",
        "        The directory path to the images file.\n",
        "    fileSize : Integer\n",
        "        The size of the file, tipically it represents how many instances (or images) the file have.\n",
        "    isLabel : Boolean, optional\n",
        "        A flag that defines whether the file to be read is a classification label or not. Set as False for non-label files. The default is True.\n",
        "\n",
        "    Returns\n",
        "    -------\n",
        "    data : Numpy array\n",
        "        An array with the correct format for the images or labels present in the Fashion-MNIST data set.\n",
        "\n",
        "    '''\n",
        "    frameSize = (1, 1)\n",
        "    dataType = np.uint8\n",
        "    file = gzip.open(filePath, 'r')\n",
        "    if not(isLabel):\n",
        "        file.read(8)\n",
        "        frameSize = (28, 28)\n",
        "        dataType = np.float32\n",
        "    file.read(8)\n",
        "    buffer = file.read(frameSize[0] * frameSize[1] * fileSize)\n",
        "    data = np.frombuffer(buffer, dtype = np.uint8).astype(dataType)\n",
        "    data = data.reshape(fileSize, frameSize[0], frameSize[1]).squeeze()\n",
        "    \n",
        "    return data"
      ],
      "execution_count": 86,
      "outputs": []
    },
    {
      "cell_type": "code",
      "metadata": {
        "id": "KKuDdJBOzPFs",
        "colab_type": "code",
        "colab": {}
      },
      "source": [
        "def plotImage(data, labels, index = 0):\n",
        "    '''\n",
        "    \n",
        "    Parameters\n",
        "    ----------\n",
        "    data : Numpy array\n",
        "        The image data read of an image file.\n",
        "    labels : Numpy array\n",
        "        The labels data to identify how each image is classified.\n",
        "    index : Integer, optional\n",
        "        The index of the image to plot inside the data array. Must be within the file size. The default is 0.\n",
        "\n",
        "    Returns\n",
        "    -------\n",
        "    None.\n",
        "\n",
        "    '''\n",
        "    image = data[index]\n",
        "    plt.imshow(image, cmap = plt.cm.binary)\n",
        "    plt.title(f'Label: {decoding[labels[index]]}')\n",
        "    plt.xticks([])\n",
        "    plt.yticks([])\n",
        "    plt.show()"
      ],
      "execution_count": 87,
      "outputs": []
    },
    {
      "cell_type": "code",
      "metadata": {
        "id": "tnU3qDS2LimL",
        "colab_type": "code",
        "colab": {}
      },
      "source": [
        "def getModelPrediction(data, labels, index = 0):\n",
        "  '''\n",
        "\n",
        "  Parameters\n",
        "  ----------\n",
        "  data : Numpy array\n",
        "      The image data read of an image file.\n",
        "  labels : Numpy array\n",
        "      The labels data to identify how each image is classified.\n",
        "  index : Integer, optional\n",
        "      The index of the image to plot inside the data array. Must be within the file size. The default is 0.\n",
        "\n",
        "  Returns\n",
        "  -------\n",
        "  None.\n",
        "\n",
        "  '''\n",
        "  prediction = model.predict(np.expand_dims(data[index], axis = 0))\n",
        "  plotImage(data, labels, index=index)\n",
        "  \n",
        "  print(f'Model Classification:\\t {decoding[np.argmax(prediction)]}')     "
      ],
      "execution_count": 88,
      "outputs": []
    },
    {
      "cell_type": "code",
      "metadata": {
        "id": "TNHbTN8NFUUO",
        "colab_type": "code",
        "colab": {}
      },
      "source": [
        "def plotConfidence(data, labels, index = 0):\n",
        "  '''\n",
        "\n",
        "  Parameters\n",
        "  ----------\n",
        "  data : Numpy array\n",
        "    The image data read of an image file.\n",
        "  labels : Numpy array\n",
        "    The labels data to identify how each image is classified.\n",
        "  index : Integer, optional\n",
        "    The index of the image to plot inside the data array. Must be within the file size. The default is 0.\n",
        "\n",
        "  Returns\n",
        "  -------\n",
        "  None.\n",
        "\n",
        "  '''\n",
        "  prediction = model.predict(np.expand_dims(data[index], 0))\n",
        "  predictedLabel = np.argmax(prediction)\n",
        "\n",
        "  if predictedLabel == labels[index]:\n",
        "    color = 'blue'\n",
        "  else:\n",
        "    color = 'red'\n",
        "\n",
        "  plt.figure(figsize=(16, 6))\n",
        "  plt.subplot(1, 2, 1)\n",
        "  plt.imshow(data[index], cmap=plt.cm.binary)\n",
        "  plt.xlabel('{} {:2.1f}% -> ({})'.format(decoding[predictedLabel], 100*np.max(prediction), decoding[labels[index]]), color=color, fontsize=18)\n",
        "  plt.xticks([])\n",
        "  plt.yticks([])\n",
        "\n",
        "  plt.subplot(1, 2, 2)\n",
        "  confidencePlot = plt.bar(range(10), 100*prediction.squeeze(), color='#777777')\n",
        "  plt.ylim([0, 100])\n",
        "  plt.ylabel('%')\n",
        "  plt.xticks(range(10), [decoding[i] for i in range(10)], color='black', rotation=75, fontsize=12, horizontalalignment='center')\n",
        "  confidencePlot[predictedLabel].set_color('red')\n",
        "  confidencePlot[labels[index]].set_color('blue')\n"
      ],
      "execution_count": 98,
      "outputs": []
    },
    {
      "cell_type": "code",
      "metadata": {
        "id": "szL98cN7zVRu",
        "colab_type": "code",
        "colab": {
          "base_uri": "https://localhost:8080/",
          "height": 268
        },
        "outputId": "50d22cad-45c1-475f-c931-be038a555ded"
      },
      "source": [
        "x_train = loadData(trainImages, 60000, isLabel = False) / 255.0\n",
        "y_train = loadData(trainLabels, 60000)\n",
        "x_test = loadData(testImages, 10000, isLabel = False) / 255.0\n",
        "y_test = loadData(testLabels, 10000)\n",
        "\n",
        "plotImage(x_train, y_train, index = 0)"
      ],
      "execution_count": 90,
      "outputs": [
        {
          "output_type": "display_data",
          "data": {
            "image/png": "[encoded data removed]",
            "text/plain": [
              "<Figure size 432x288 with 1 Axes>"
            ]
          },
          "metadata": {
            "tags": []
          }
        }
      ]
    },
    {
      "cell_type": "code",
      "metadata": {
        "id": "_r-f5wvZzcoQ",
        "colab_type": "code",
        "colab": {
          "base_uri": "https://localhost:8080/",
          "height": 544
        },
        "outputId": "d16f5714-1022-4d30-f087-a859a49b551d"
      },
      "source": [
        "model = tf.keras.Sequential([\n",
        "    tf.keras.layers.Flatten(input_shape=(28, 28)),\n",
        "    tf.keras.layers.Dense(128, activation='relu'),\n",
        "    tf.keras.layers.Dense(64, activation='relu'),\n",
        "    tf.keras.layers.Dense(10, activation='softmax')\n",
        "])\n",
        "\n",
        "opt = tf.keras.optimizers.Adam(learning_rate=0.001)\n",
        "loss_fn = tf.keras.losses.SparseCategoricalCrossentropy(from_logits=False)\n",
        "metr = ['accuracy']\n",
        "\n",
        "model.compile(optimizer = opt,\n",
        "              loss = loss_fn,\n",
        "              metrics = metr)\n",
        "\n",
        "model.fit(x_train, y_train, epochs = 15)"
      ],
      "execution_count": 91,
      "outputs": [
        {
          "output_type": "stream",
          "text": [
            "Epoch 1/15\n",
            "1875/1875 [==============================] - 4s 2ms/step - loss: 0.4950 - accuracy: 0.8231\n",
            "Epoch 2/15\n",
            "1875/1875 [==============================] - 4s 2ms/step - loss: 0.3696 - accuracy: 0.8656\n",
            "Epoch 3/15\n",
            "1875/1875 [==============================] - 4s 2ms/step - loss: 0.3341 - accuracy: 0.8764\n",
            "Epoch 4/15\n",
            "1875/1875 [==============================] - 4s 2ms/step - loss: 0.3099 - accuracy: 0.8846\n",
            "Epoch 5/15\n",
            "1875/1875 [==============================] - 4s 2ms/step - loss: 0.2935 - accuracy: 0.8912\n",
            "Epoch 6/15\n",
            "1875/1875 [==============================] - 4s 2ms/step - loss: 0.2785 - accuracy: 0.8965\n",
            "Epoch 7/15\n",
            "1875/1875 [==============================] - 4s 2ms/step - loss: 0.2669 - accuracy: 0.9000\n",
            "Epoch 8/15\n",
            "1875/1875 [==============================] - 4s 2ms/step - loss: 0.2556 - accuracy: 0.9037\n",
            "Epoch 9/15\n",
            "1875/1875 [==============================] - 4s 2ms/step - loss: 0.2465 - accuracy: 0.9071\n",
            "Epoch 10/15\n",
            "1875/1875 [==============================] - 4s 2ms/step - loss: 0.2381 - accuracy: 0.9105\n",
            "Epoch 11/15\n",
            "1875/1875 [==============================] - 4s 2ms/step - loss: 0.2287 - accuracy: 0.9141\n",
            "Epoch 12/15\n",
            "1875/1875 [==============================] - 4s 2ms/step - loss: 0.2203 - accuracy: 0.9163\n",
            "Epoch 13/15\n",
            "1875/1875 [==============================] - 4s 2ms/step - loss: 0.2144 - accuracy: 0.9179\n",
            "Epoch 14/15\n",
            "1875/1875 [==============================] - 4s 2ms/step - loss: 0.2062 - accuracy: 0.9217\n",
            "Epoch 15/15\n",
            "1875/1875 [==============================] - 4s 2ms/step - loss: 0.2029 - accuracy: 0.9229\n"
          ],
          "name": "stdout"
        },
        {
          "output_type": "execute_result",
          "data": {
            "text/plain": [
              "<tensorflow.python.keras.callbacks.History at 0x7fe276ca2588>"
            ]
          },
          "metadata": {
            "tags": []
          },
          "execution_count": 91
        }
      ]
    },
    {
      "cell_type": "code",
      "metadata": {
        "id": "GpU5JRnjzrdH",
        "colab_type": "code",
        "colab": {
          "base_uri": "https://localhost:8080/",
          "height": 34
        },
        "outputId": "91996595-19d5-4966-c982-e852bf1409cc"
      },
      "source": [
        "test_loss, test_acc = model.evaluate(x_test, y_test, verbose = 1)"
      ],
      "execution_count": 92,
      "outputs": [
        {
          "output_type": "stream",
          "text": [
            "313/313 [==============================] - 0s 1ms/step - loss: 0.3441 - accuracy: 0.8915\n"
          ],
          "name": "stdout"
        }
      ]
    },
    {
      "cell_type": "code",
      "metadata": {
        "id": "LNGlOMg-HeNW",
        "colab_type": "code",
        "colab": {
          "base_uri": "https://localhost:8080/",
          "height": 285
        },
        "outputId": "668855d0-7b34-48ba-de83-7903acbc0e15"
      },
      "source": [
        "getModelPrediction(x_test, y_test, index = 4021)"
      ],
      "execution_count": 93,
      "outputs": [
        {
          "output_type": "display_data",
          "data": {
            "image/png": "[encoded data removed]",
            "text/plain": [
              "<Figure size 432x288 with 1 Axes>"
            ]
          },
          "metadata": {
            "tags": []
          }
        },
        {
          "output_type": "stream",
          "text": [
            "Model Classification:\t Coat\n"
          ],
          "name": "stdout"
        }
      ]
    },
    {
      "cell_type": "code",
      "metadata": {
        "id": "ry_9X5xDCB_5",
        "colab_type": "code",
        "colab": {
          "base_uri": "https://localhost:8080/",
          "height": 434
        },
        "outputId": "d3e89e5e-6329-41f5-93cf-66f747c805db"
      },
      "source": [
        "plotConfidence(x_test, y_test, index = 4021)"
      ],
      "execution_count": 99,
      "outputs": [
        {
          "output_type": "display_data",
          "data": {
            "image/png": "[encoded data removed]",
            "text/plain": [
              "<Figure size 1152x432 with 2 Axes>"
            ]
          },
          "metadata": {
            "tags": [],
            "needs_background": "light"
          }
        }
      ]
    }
  ]
}