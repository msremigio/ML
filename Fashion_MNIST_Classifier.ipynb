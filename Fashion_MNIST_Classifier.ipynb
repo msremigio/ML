{
  "nbformat": 4,
  "nbformat_minor": 0,
  "metadata": {
    "colab": {
      "name": "Fashion MNIST Classifier.ipynb",
      "provenance": [],
      "collapsed_sections": [],
      "authorship_tag": "ABX9TyMkJEaeVQXc/2z7gQvOFVdI",
      "include_colab_link": true
    },
    "kernelspec": {
      "name": "python3",
      "display_name": "Python 3"
    }
  },
  "cells": [
    {
      "cell_type": "markdown",
      "metadata": {
        "id": "view-in-github",
        "colab_type": "text"
      },
      "source": [
        "<a href=\"https://colab.research.google.com/github/msremigio/ML/blob/master/Fashion_MNIST_Classifier.ipynb\" target=\"_parent\"><img src=\"https://colab.research.google.com/assets/colab-badge.svg\" alt=\"Open In Colab\"/></a>"
      ]
    },
    {
      "cell_type": "code",
      "metadata": {
        "id": "vPTCw8UrxsMP",
        "colab_type": "code",
        "colab": {}
      },
      "source": [
        "import gzip\n",
        "import numpy as np\n",
        "import matplotlib.pyplot as plt\n",
        "import tensorflow as tf"
      ],
      "execution_count": 65,
      "outputs": []
    },
    {
      "cell_type": "code",
      "metadata": {
        "id": "Va0zegLHy-CD",
        "colab_type": "code",
        "colab": {}
      },
      "source": [
        "trainImages = '/content/train-images-idx3-ubyte.gz'\n",
        "trainLabels = '/content/train-labels-idx1-ubyte.gz'\n",
        "testImages = '/content/t10k-images-idx3-ubyte.gz'\n",
        "testLabels = '/content/t10k-labels-idx1-ubyte.gz'"
      ],
      "execution_count": 66,
      "outputs": []
    },
    {
      "cell_type": "code",
      "metadata": {
        "id": "5PSQgph4Mt-Q",
        "colab_type": "code",
        "colab": {}
      },
      "source": [
        "decoding = {0 : 'T-shirt/top',\n",
        "            1 :\t'Trouser',\n",
        "            2 :\t'Pullover',\n",
        "            3 :\t'Dress',\n",
        "            4 :\t'Coat',\n",
        "            5 :\t'Sandal',\n",
        "            6 :\t'Shirt',\n",
        "            7 :\t'Sneaker',\n",
        "            8 :\t'Bag',\n",
        "            9 :\t'Ankle boot'}"
      ],
      "execution_count": 67,
      "outputs": []
    },
    {
      "cell_type": "code",
      "metadata": {
        "id": "SImcta5YzM0Y",
        "colab_type": "code",
        "colab": {}
      },
      "source": [
        "def loadData(filePath, fileSize, isLabel = True):\n",
        "    '''\n",
        "    \n",
        "    Parameters\n",
        "    ----------\n",
        "    filePath : String\n",
        "        The directory path to the images file.\n",
        "    fileSize : Integer\n",
        "        The size of the file, tipically it represents how many instances (or images) the file have.\n",
        "    isLabel : Boolean, optional\n",
        "        A flag that defines whether the file to be read is a classification label or not. Set as False for non-label files. The default is True.\n",
        "\n",
        "    Returns\n",
        "    -------\n",
        "    data : Numpy array\n",
        "        An array with the correct format for the images or labels present in the Fashion-MNIST data set.\n",
        "\n",
        "    '''\n",
        "    frameSize = (1, 1)\n",
        "    dataType = np.uint8\n",
        "    file = gzip.open(filePath, 'r')\n",
        "    if not(isLabel):\n",
        "        file.read(8)\n",
        "        frameSize = (28, 28)\n",
        "        dataType = np.float32\n",
        "    file.read(8)\n",
        "    buffer = file.read(frameSize[0] * frameSize[1] * fileSize)\n",
        "    data = np.frombuffer(buffer, dtype = np.uint8).astype(dataType)\n",
        "    data = data.reshape(fileSize, frameSize[0], frameSize[1]).squeeze()\n",
        "    \n",
        "    return data"
      ],
      "execution_count": 68,
      "outputs": []
    },
    {
      "cell_type": "code",
      "metadata": {
        "id": "KKuDdJBOzPFs",
        "colab_type": "code",
        "colab": {}
      },
      "source": [
        "def plotImage(data, labels, index = 0):\n",
        "    '''\n",
        "    \n",
        "    Parameters\n",
        "    ----------\n",
        "    data : Numpy array\n",
        "        The image data read of an image file.\n",
        "    labels : Numpy array\n",
        "        The labels data to identify how each image is classified.\n",
        "    index : Integer, optional\n",
        "        The index of the image to plot inside the data array. Must be within the file size. The default is 0.\n",
        "\n",
        "    Returns\n",
        "    -------\n",
        "    None.\n",
        "\n",
        "    '''\n",
        "    image = data[index]\n",
        "    plt.imshow(image, cmap = plt.cm.binary)\n",
        "    plt.title(f'Label: {decoding[labels[index]]}')\n",
        "    plt.show()"
      ],
      "execution_count": 69,
      "outputs": []
    },
    {
      "cell_type": "code",
      "metadata": {
        "id": "tnU3qDS2LimL",
        "colab_type": "code",
        "colab": {}
      },
      "source": [
        "def getModelPrediction(data, labels, index = 0):\n",
        "  '''\n",
        "\n",
        "  Parameters\n",
        "  ----------\n",
        "  data : Numpy array\n",
        "      The image data read of an image file.\n",
        "  labels : Numpy array\n",
        "      The labels data to identify how each image is classified.\n",
        "  index : Integer, optional\n",
        "      The index of the image to plot inside the data array. Must be within the file size. The default is 0.\n",
        "\n",
        "  Returns\n",
        "  -------\n",
        "  None.\n",
        "\n",
        "  '''\n",
        "  prediction = model.predict(np.expand_dims(data[index], axis = 0))\n",
        "  plotImage(data, labels, index=index)\n",
        "  \n",
        "  print(f'Model Classification:\\t {decoding[np.argmax(prediction)]}')     "
      ],
      "execution_count": 70,
      "outputs": []
    },
    {
      "cell_type": "code",
      "metadata": {
        "id": "TNHbTN8NFUUO",
        "colab_type": "code",
        "colab": {}
      },
      "source": [
        "def plotConfidence(data, labels, index = 0):\n",
        "  '''\n",
        "\n",
        "  Parameters\n",
        "  ----------\n",
        "  data : Numpy array\n",
        "    The image data read of an image file.\n",
        "  labels : Numpy array\n",
        "    The labels data to identify how each image is classified.\n",
        "  index : Integer, optional\n",
        "    The index of the image to plot inside the data array. Must be within the file size. The default is 0.\n",
        "\n",
        "  Returns\n",
        "  -------\n",
        "  None.\n",
        "\n",
        "  '''\n",
        "  prediction = model.predict(np.expand_dims(data[index], 0))\n",
        "  predictedLabel = np.argmax(prediction)\n",
        "\n",
        "  if predictedLabel == labels[index]:\n",
        "    color = 'blue'\n",
        "  else:\n",
        "    color = 'red'\n",
        "\n",
        "  plt.figure(figsize=(16, 6))\n",
        "  plt.subplot(1, 2, 1)\n",
        "  plt.imshow(data[index], cmap=plt.cm.binary)\n",
        "  plt.xlabel('{} {:2.1f}% ({})'.format(decoding[labels[index]], 100*np.max(prediction), decoding[predictedLabel]), color=color, fontsize=18)\n",
        "  plt.xticks([])\n",
        "\n",
        "  plt.subplot(1, 2, 2)\n",
        "  confidencePlot = plt.bar(range(10), 100*prediction.squeeze(), color='#777777')\n",
        "  plt.ylim([0, 100])\n",
        "  plt.xticks(range(10), [decoding[i] for i in range(10)], color='white', rotation=75, fontsize=12, horizontalalignment='center')\n",
        "  confidencePlot[predictedLabel].set_color('red')\n",
        "  confidencePlot[labels[index]].set_color('blue')\n"
      ],
      "execution_count": 78,
      "outputs": []
    },
    {
      "cell_type": "code",
      "metadata": {
        "id": "szL98cN7zVRu",
        "colab_type": "code",
        "colab": {
          "base_uri": "https://localhost:8080/",
          "height": 281
        },
        "outputId": "d47e42a3-33a1-4406-bb39-207a6fdfabbc"
      },
      "source": [
        "x_train = loadData(trainImages, 60000, isLabel = False) / 255.0\n",
        "y_train = loadData(trainLabels, 60000)\n",
        "x_test = loadData(testImages, 10000, isLabel = False) / 255.0\n",
        "y_test = loadData(testLabels, 10000)\n",
        "\n",
        "plotImage(x_train, y_train, index = 0)"
      ],
      "execution_count": 72,
      "outputs": [
        {
          "output_type": "display_data",
          "data": {
            "image/png": "[encoded data removed]",
            "text/plain": [
              "<Figure size 432x288 with 1 Axes>"
            ]
          },
          "metadata": {
            "tags": [],
            "needs_background": "light"
          }
        }
      ]
    },
    {
      "cell_type": "code",
      "metadata": {
        "id": "_r-f5wvZzcoQ",
        "colab_type": "code",
        "colab": {
          "base_uri": "https://localhost:8080/",
          "height": 544
        },
        "outputId": "f6da86a8-028a-4a7b-bbbb-172787a8f504"
      },
      "source": [
        "model = tf.keras.Sequential([\n",
        "    tf.keras.layers.Flatten(input_shape=(28, 28)),\n",
        "    tf.keras.layers.Dense(128, activation='relu'),\n",
        "    tf.keras.layers.Dense(64, activation='relu'),\n",
        "    tf.keras.layers.Dense(10, activation='softmax')\n",
        "])\n",
        "\n",
        "opt = tf.keras.optimizers.Adam(learning_rate=0.001)\n",
        "loss_fn = tf.keras.losses.SparseCategoricalCrossentropy(from_logits=False)\n",
        "metr = ['accuracy']\n",
        "\n",
        "model.compile(optimizer = opt,\n",
        "              loss = loss_fn,\n",
        "              metrics = metr)\n",
        "\n",
        "model.fit(x_train, y_train, epochs = 15)"
      ],
      "execution_count": 73,
      "outputs": [
        {
          "output_type": "stream",
          "text": [
            "Epoch 1/15\n",
            "1875/1875 [==============================] - 4s 2ms/step - loss: 0.4909 - accuracy: 0.8257\n",
            "Epoch 2/15\n",
            "1875/1875 [==============================] - 4s 2ms/step - loss: 0.3687 - accuracy: 0.8646\n",
            "Epoch 3/15\n",
            "1875/1875 [==============================] - 4s 2ms/step - loss: 0.3331 - accuracy: 0.8770\n",
            "Epoch 4/15\n",
            "1875/1875 [==============================] - 4s 2ms/step - loss: 0.3087 - accuracy: 0.8856\n",
            "Epoch 5/15\n",
            "1875/1875 [==============================] - 4s 2ms/step - loss: 0.2925 - accuracy: 0.8930\n",
            "Epoch 6/15\n",
            "1875/1875 [==============================] - 4s 2ms/step - loss: 0.2762 - accuracy: 0.8971\n",
            "Epoch 7/15\n",
            "1875/1875 [==============================] - 4s 2ms/step - loss: 0.2658 - accuracy: 0.9009\n",
            "Epoch 8/15\n",
            "1875/1875 [==============================] - 4s 2ms/step - loss: 0.2546 - accuracy: 0.9047\n",
            "Epoch 9/15\n",
            "1875/1875 [==============================] - 4s 2ms/step - loss: 0.2439 - accuracy: 0.9093\n",
            "Epoch 10/15\n",
            "1875/1875 [==============================] - 4s 2ms/step - loss: 0.2360 - accuracy: 0.9109\n",
            "Epoch 11/15\n",
            "1875/1875 [==============================] - 4s 2ms/step - loss: 0.2281 - accuracy: 0.9133\n",
            "Epoch 12/15\n",
            "1875/1875 [==============================] - 4s 2ms/step - loss: 0.2217 - accuracy: 0.9161\n",
            "Epoch 13/15\n",
            "1875/1875 [==============================] - 4s 2ms/step - loss: 0.2141 - accuracy: 0.9187\n",
            "Epoch 14/15\n",
            "1875/1875 [==============================] - 4s 2ms/step - loss: 0.2066 - accuracy: 0.9221\n",
            "Epoch 15/15\n",
            "1875/1875 [==============================] - 4s 2ms/step - loss: 0.2000 - accuracy: 0.9229\n"
          ],
          "name": "stdout"
        },
        {
          "output_type": "execute_result",
          "data": {
            "text/plain": [
              "<tensorflow.python.keras.callbacks.History at 0x7fe28189ba90>"
            ]
          },
          "metadata": {
            "tags": []
          },
          "execution_count": 73
        }
      ]
    },
    {
      "cell_type": "code",
      "metadata": {
        "id": "GpU5JRnjzrdH",
        "colab_type": "code",
        "colab": {
          "base_uri": "https://localhost:8080/",
          "height": 34
        },
        "outputId": "fce146c6-f147-42b6-bc85-44f64d12f74c"
      },
      "source": [
        "test_loss, test_acc = model.evaluate(x_test, y_test, verbose = 1)"
      ],
      "execution_count": 74,
      "outputs": [
        {
          "output_type": "stream",
          "text": [
            "313/313 [==============================] - 0s 1ms/step - loss: 0.3343 - accuracy: 0.8911\n"
          ],
          "name": "stdout"
        }
      ]
    },
    {
      "cell_type": "code",
      "metadata": {
        "id": "LNGlOMg-HeNW",
        "colab_type": "code",
        "colab": {
          "base_uri": "https://localhost:8080/",
          "height": 298
        },
        "outputId": "2e6bfc09-d0bf-48f6-ae85-cb9bf038ce5c"
      },
      "source": [
        "getModelPrediction(x_test, y_test, index = 4021)"
      ],
      "execution_count": 75,
      "outputs": [
        {
          "output_type": "display_data",
          "data": {
            "image/png": "[encoded data removed]",
            "text/plain": [
              "<Figure size 432x288 with 1 Axes>"
            ]
          },
          "metadata": {
            "tags": [],
            "needs_background": "light"
          }
        },
        {
          "output_type": "stream",
          "text": [
            "Model Classification:\t Coat\n"
          ],
          "name": "stdout"
        }
      ]
    },
    {
      "cell_type": "code",
      "metadata": {
        "id": "ry_9X5xDCB_5",
        "colab_type": "code",
        "colab": {
          "base_uri": "https://localhost:8080/",
          "height": 434
        },
        "outputId": "1bea0193-620e-409c-b700-a59df80b62c4"
      },
      "source": [
        "plotConfidence(x_test, y_test, index = 4021)"
      ],
      "execution_count": 80,
      "outputs": [
        {
          "output_type": "display_data",
          "data": {
            "image/png": "[encoded data removed]",
            "text/plain": [
              "<Figure size 1152x432 with 2 Axes>"
            ]
          },
          "metadata": {
            "tags": []
          }
        }
      ]
    }
  ]
}