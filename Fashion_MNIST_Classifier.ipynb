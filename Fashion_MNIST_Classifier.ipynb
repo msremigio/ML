{
  "nbformat": 4,
  "nbformat_minor": 0,
  "metadata": {
    "colab": {
      "name": "Fashion MNIST Classifier.ipynb",
      "provenance": [],
      "collapsed_sections": [],
      "authorship_tag": "ABX9TyPuSJvQO7hFh4PpHngEp5hv",
      "include_colab_link": true
    },
    "kernelspec": {
      "name": "python3",
      "display_name": "Python 3"
    }
  },
  "cells": [
    {
      "cell_type": "markdown",
      "metadata": {
        "id": "view-in-github",
        "colab_type": "text"
      },
      "source": [
        "<a href=\"https://colab.research.google.com/github/msremigio/ML/blob/master/Fashion_MNIST_Classifier.ipynb\" target=\"_parent\"><img src=\"https://colab.research.google.com/assets/colab-badge.svg\" alt=\"Open In Colab\"/></a>"
      ]
    },
    {
      "cell_type": "code",
      "metadata": {
        "id": "vPTCw8UrxsMP",
        "colab_type": "code",
        "colab": {}
      },
      "source": [
        "import gzip\n",
        "import numpy as np\n",
        "import matplotlib.pyplot as plt\n",
        "import tensorflow as tf"
      ],
      "execution_count": 8,
      "outputs": []
    },
    {
      "cell_type": "code",
      "metadata": {
        "id": "Va0zegLHy-CD",
        "colab_type": "code",
        "colab": {}
      },
      "source": [
        "trainImages = '/content/train-images-idx3-ubyte.gz'\n",
        "trainLabels = '/content/train-labels-idx1-ubyte.gz'\n",
        "testImages = '/content/t10k-images-idx3-ubyte.gz'\n",
        "testLabels = '/content/t10k-labels-idx1-ubyte.gz'"
      ],
      "execution_count": 9,
      "outputs": []
    },
    {
      "cell_type": "code",
      "metadata": {
        "id": "5PSQgph4Mt-Q",
        "colab_type": "code",
        "colab": {}
      },
      "source": [
        "decoding = {0 : 'T-shirt/top',\n",
        "            1 :\t'Trouser',\n",
        "            2 :\t'Pullover',\n",
        "            3 :\t'Dress',\n",
        "            4 :\t'Coat',\n",
        "            5 :\t'Sandal',\n",
        "            6 :\t'Shirt',\n",
        "            7 :\t'Sneaker',\n",
        "            8 :\t'Bag',\n",
        "            9 :\t'Ankle boot'}"
      ],
      "execution_count": 10,
      "outputs": []
    },
    {
      "cell_type": "code",
      "metadata": {
        "id": "SImcta5YzM0Y",
        "colab_type": "code",
        "colab": {}
      },
      "source": [
        "def loadData(filePath, fileSize, isLabel = True):\n",
        "    '''\n",
        "    \n",
        "    Parameters\n",
        "    ----------\n",
        "    filePath : String\n",
        "        The directory path to the images file.\n",
        "    fileSize : Integer\n",
        "        The size of the file, tipically it represents how many instances (or images) the file have.\n",
        "    isLabel : Boolean, optional\n",
        "        A flag that defines whether the file to be read is a classification label or not. Set as False for non-label files. The default is True.\n",
        "\n",
        "    Returns\n",
        "    -------\n",
        "    data : Numpy array\n",
        "        An array with the correct format for the images or labels present in the Fashion-MNIST data set.\n",
        "\n",
        "    '''\n",
        "    frameSize = (1, 1)\n",
        "    dataType = np.uint8\n",
        "    file = gzip.open(filePath, 'r')\n",
        "    if not(isLabel):\n",
        "        file.read(8)\n",
        "        frameSize = (28, 28)\n",
        "        dataType = np.float32\n",
        "    file.read(8)\n",
        "    buffer = file.read(frameSize[0] * frameSize[1] * fileSize)\n",
        "    data = np.frombuffer(buffer, dtype = np.uint8).astype(dataType)\n",
        "    data = data.reshape(fileSize, frameSize[0], frameSize[1]).squeeze()\n",
        "    \n",
        "    return data"
      ],
      "execution_count": 11,
      "outputs": []
    },
    {
      "cell_type": "code",
      "metadata": {
        "id": "KKuDdJBOzPFs",
        "colab_type": "code",
        "colab": {}
      },
      "source": [
        "def plotImage(data, labels, index = 0):\n",
        "    '''\n",
        "    \n",
        "    Parameters\n",
        "    ----------\n",
        "    data : Numpy array\n",
        "        The image data read of an image file.\n",
        "    labels : Numpy array\n",
        "        The labels data to identify how each image is classified.\n",
        "    index : Integer, optional\n",
        "        The index of the image to plot inside the data array. Must be within the file size. The default is 0.\n",
        "\n",
        "    Returns\n",
        "    -------\n",
        "    None.\n",
        "\n",
        "    '''\n",
        "    image = data[index]\n",
        "    plt.imshow(image, cmap = plt.cm.binary)\n",
        "    plt.title(f'Label: {decoding[labels[index]]}')\n",
        "    plt.show()"
      ],
      "execution_count": 12,
      "outputs": []
    },
    {
      "cell_type": "code",
      "metadata": {
        "id": "tnU3qDS2LimL",
        "colab_type": "code",
        "colab": {}
      },
      "source": [
        "def getModelPrediction(data, labels, index = 0):\n",
        "\n",
        "  predictions = model.predict(np.expand_dims(data[index], axis = 0))\n",
        "  plotImage(data, labels, index=index)\n",
        "  \n",
        "  print(f'Model Classification:\\t {decoding[np.argmax(predictions)]}')     "
      ],
      "execution_count": 51,
      "outputs": []
    },
    {
      "cell_type": "code",
      "metadata": {
        "id": "szL98cN7zVRu",
        "colab_type": "code",
        "colab": {
          "base_uri": "https://localhost:8080/",
          "height": 281
        },
        "outputId": "59c9cbaa-1220-42dd-e6a4-fe2f45c4665f"
      },
      "source": [
        "x_train = loadData(trainImages, 60000, isLabel = False) / 255.0\n",
        "y_train = loadData(trainLabels, 60000)\n",
        "x_test = loadData(testImages, 10000, isLabel = False) / 255.0\n",
        "y_test = loadData(testLabels, 10000)\n",
        "\n",
        "plotImage(x_train, y_train, index = 0)"
      ],
      "execution_count": 14,
      "outputs": [
        {
          "output_type": "display_data",
          "data": {
            "image/png": "[encoded data removed]",
            "text/plain": [
              "<Figure size 432x288 with 1 Axes>"
            ]
          },
          "metadata": {
            "tags": [],
            "needs_background": "light"
          }
        }
      ]
    },
    {
      "cell_type": "code",
      "metadata": {
        "id": "_r-f5wvZzcoQ",
        "colab_type": "code",
        "colab": {
          "base_uri": "https://localhost:8080/",
          "height": 544
        },
        "outputId": "63dfb619-0bdb-4329-ceca-1c4b135b5f17"
      },
      "source": [
        "model = tf.keras.Sequential([\n",
        "    tf.keras.layers.Flatten(input_shape=(28, 28)),\n",
        "    tf.keras.layers.Dense(128, activation='relu'),\n",
        "    tf.keras.layers.Dense(64, activation='relu'),\n",
        "    tf.keras.layers.Dense(10, activation='softmax')\n",
        "])\n",
        "\n",
        "opt = tf.keras.optimizers.Adam(learning_rate=0.001)\n",
        "loss_fn = tf.keras.losses.SparseCategoricalCrossentropy(from_logits=False)\n",
        "metr = ['accuracy']\n",
        "\n",
        "model.compile(optimizer = opt,\n",
        "              loss = loss_fn,\n",
        "              metrics = metr)\n",
        "\n",
        "model.fit(x_train, y_train, epochs = 15)"
      ],
      "execution_count": 15,
      "outputs": [
        {
          "output_type": "stream",
          "text": [
            "Epoch 1/15\n",
            "1875/1875 [==============================] - 4s 2ms/step - loss: 0.4919 - accuracy: 0.8240\n",
            "Epoch 2/15\n",
            "1875/1875 [==============================] - 4s 2ms/step - loss: 0.3667 - accuracy: 0.8660\n",
            "Epoch 3/15\n",
            "1875/1875 [==============================] - 4s 2ms/step - loss: 0.3308 - accuracy: 0.8768\n",
            "Epoch 4/15\n",
            "1875/1875 [==============================] - 4s 2ms/step - loss: 0.3093 - accuracy: 0.8853\n",
            "Epoch 5/15\n",
            "1875/1875 [==============================] - 4s 2ms/step - loss: 0.2903 - accuracy: 0.8924\n",
            "Epoch 6/15\n",
            "1875/1875 [==============================] - 4s 2ms/step - loss: 0.2752 - accuracy: 0.8968\n",
            "Epoch 7/15\n",
            "1875/1875 [==============================] - 4s 2ms/step - loss: 0.2638 - accuracy: 0.9001\n",
            "Epoch 8/15\n",
            "1875/1875 [==============================] - 4s 2ms/step - loss: 0.2518 - accuracy: 0.9050\n",
            "Epoch 9/15\n",
            "1875/1875 [==============================] - 4s 2ms/step - loss: 0.2462 - accuracy: 0.9084\n",
            "Epoch 10/15\n",
            "1875/1875 [==============================] - 4s 2ms/step - loss: 0.2346 - accuracy: 0.9114\n",
            "Epoch 11/15\n",
            "1875/1875 [==============================] - 4s 2ms/step - loss: 0.2290 - accuracy: 0.9140\n",
            "Epoch 12/15\n",
            "1875/1875 [==============================] - 3s 2ms/step - loss: 0.2213 - accuracy: 0.9149\n",
            "Epoch 13/15\n",
            "1875/1875 [==============================] - 4s 2ms/step - loss: 0.2135 - accuracy: 0.9190\n",
            "Epoch 14/15\n",
            "1875/1875 [==============================] - 4s 2ms/step - loss: 0.2083 - accuracy: 0.9199\n",
            "Epoch 15/15\n",
            "1875/1875 [==============================] - 3s 2ms/step - loss: 0.2004 - accuracy: 0.9236\n"
          ],
          "name": "stdout"
        },
        {
          "output_type": "execute_result",
          "data": {
            "text/plain": [
              "<tensorflow.python.keras.callbacks.History at 0x7f5258d2d630>"
            ]
          },
          "metadata": {
            "tags": []
          },
          "execution_count": 15
        }
      ]
    },
    {
      "cell_type": "code",
      "metadata": {
        "id": "GpU5JRnjzrdH",
        "colab_type": "code",
        "colab": {
          "base_uri": "https://localhost:8080/",
          "height": 34
        },
        "outputId": "d8e3b8f5-375f-4ac5-d92d-c5bd03b4ce24"
      },
      "source": [
        "test_loss, test_acc = model.evaluate(x_test, y_test, verbose = 1)"
      ],
      "execution_count": 16,
      "outputs": [
        {
          "output_type": "stream",
          "text": [
            "313/313 [==============================] - 0s 1ms/step - loss: 0.3428 - accuracy: 0.8853\n"
          ],
          "name": "stdout"
        }
      ]
    },
    {
      "cell_type": "code",
      "metadata": {
        "id": "LNGlOMg-HeNW",
        "colab_type": "code",
        "colab": {
          "base_uri": "https://localhost:8080/",
          "height": 298
        },
        "outputId": "b2791444-30a5-457d-ddbe-f577edc06253"
      },
      "source": [
        "getModelPrediction(x_test, y_test, index = 4021)"
      ],
      "execution_count": 52,
      "outputs": [
        {
          "output_type": "display_data",
          "data": {
            "image/png": "[encoded data removed]",
            "text/plain": [
              "<Figure size 432x288 with 1 Axes>"
            ]
          },
          "metadata": {
            "tags": [],
            "needs_background": "light"
          }
        },
        {
          "output_type": "stream",
          "text": [
            "Model Classification:\t Coat\n"
          ],
          "name": "stdout"
        }
      ]
    }
  ]
}